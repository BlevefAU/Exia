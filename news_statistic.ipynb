{
 "cells": [
  {
   "cell_type": "code",
   "execution_count": 6,
   "id": "ff8c1db5",
   "metadata": {},
   "outputs": [],
   "source": [
    "import requests\n",
    "import mysql.connector\n",
    "from datetime import datetime  \n",
    "import json"
   ]
  },
  {
   "cell_type": "code",
   "execution_count": 7,
   "id": "e0c81269",
   "metadata": {},
   "outputs": [],
   "source": [
    "# 创建数据库连接\n",
    "db = mysql.connector.connect(\n",
    "    host=\"localhost\",  # MySQL服务器地址\n",
    "    user=\"root\",   # 用户名\n",
    "    password=\"\",  # 密码\n",
    "    database=\"soybean\"  # 数据库名称\n",
    ")\n",
    "\n",
    "# 创建游标对象，用于执行SQL查询\n",
    "cursor = db.cursor()"
   ]
  },
  {
   "cell_type": "code",
   "execution_count": 8,
   "id": "580e9d71",
   "metadata": {},
   "outputs": [],
   "source": [
    "today_str = datetime.now().strftime(\"%Y-%m-%d\")\n",
    "\n",
    "\n",
    "\n",
    "cursor.execute(\"SELECT news_date,gpt_value FROM news WHERE news_date = '\"+today_str+\"'\")\n",
    "res = cursor.fetchall()     # fetchall() 获取所有记录\n",
    "\n",
    "news_list = []\n",
    "for x in res:\n",
    "    news_list.append(list(x)) "
   ]
  },
  {
   "cell_type": "code",
   "execution_count": 9,
   "id": "017ca3e1",
   "metadata": {},
   "outputs": [
    {
     "data": {
      "text/plain": [
       "[[datetime.datetime(2024, 9, 8, 0, 0), 1.0],\n",
       " [datetime.datetime(2024, 9, 8, 0, 0), 0.5],\n",
       " [datetime.datetime(2024, 9, 8, 0, 0), 1.0],\n",
       " [datetime.datetime(2024, 9, 8, 0, 0), 0.5]]"
      ]
     },
     "execution_count": 9,
     "metadata": {},
     "output_type": "execute_result"
    }
   ],
   "source": [
    "news_list"
   ]
  },
  {
   "cell_type": "code",
   "execution_count": 10,
   "id": "07a74bb5",
   "metadata": {},
   "outputs": [],
   "source": [
    "from collections import defaultdict  \n",
    "  \n",
    "# 假设这是你的数据  \n",
    "data = news_list\n",
    "  \n",
    "# 使用 defaultdict 来按日期分组并计数  \n",
    "from datetime import datetime  \n",
    "count_by_date = defaultdict(lambda: defaultdict(int))  \n",
    "  \n",
    "for date, value in data:  \n",
    "    date_str = date.strftime('%Y-%m-%d')  # 将日期转换为字符串以便作为字典的键  \n",
    "    count_by_date[date_str][value] += 1  \n",
    "  \n",
    "# 遍历每个日期，找出数量最多的值  \n",
    "results = []  \n",
    "for date_str, values in count_by_date.items():  \n",
    "    max_count = max(values.values())  # 找到该日期下最多的数量  \n",
    "    max_values = [k for k, v in values.items() if v == max_count]  # 找到所有数量最多的值  \n",
    "      \n",
    "    # 如果0和1的数量都等于最大值且都大于0.5的数量，则选择0.5  \n",
    "    if '0' in max_values and '1' in max_values and (values['0'] == values['1'] > values.get('0.5', 0)):  \n",
    "        most_common_value = '0.5'  \n",
    "    else:  \n",
    "        most_common_value = max_values[0]  # 如果不是特殊情况，就取第一个最大值  \n",
    "  \n",
    "    results.append((date_str, most_common_value))  \n",
    "  \n",
    "# 打印结果  \n",
    "for date_str, most_common_value in results:  \n",
    "    cursor.execute(\"SELECT *FROM news_statistics WHERE record_date = '\"+today_str+\"'\")\n",
    "    res = cursor.fetchall()     # fetchall() 获取所有记录\n",
    "    \n",
    "    if len(res) > 0 :\n",
    "        continue;\n",
    "    \n",
    "    sql = \"INSERT INTO news_statistics (record_date, trend_value) VALUES (%s, %s)\"\n",
    "    values = (date_str,most_common_value)\n",
    "    cursor.execute(sql, values)\n",
    "# 提交更改到数据库\n",
    "db.commit()"
   ]
  },
  {
   "cell_type": "code",
   "execution_count": null,
   "id": "02833ee8",
   "metadata": {},
   "outputs": [],
   "source": []
  }
 ],
 "metadata": {
  "kernelspec": {
   "display_name": "Python 3 (ipykernel)",
   "language": "python",
   "name": "python3"
  },
  "language_info": {
   "codemirror_mode": {
    "name": "ipython",
    "version": 3
   },
   "file_extension": ".py",
   "mimetype": "text/x-python",
   "name": "python",
   "nbconvert_exporter": "python",
   "pygments_lexer": "ipython3",
   "version": "3.10.0"
  }
 },
 "nbformat": 4,
 "nbformat_minor": 5
}
