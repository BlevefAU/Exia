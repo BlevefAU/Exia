{
 "cells": [
  {
   "cell_type": "code",
   "execution_count": 1,
   "id": "c8de845e",
   "metadata": {},
   "outputs": [],
   "source": [
    "import requests\n",
    "import mysql.connector\n",
    "from datetime import datetime  \n",
    "import json"
   ]
  },
  {
   "cell_type": "code",
   "execution_count": 2,
   "id": "f289ffbf",
   "metadata": {},
   "outputs": [],
   "source": [
    "# 创建数据库连接\n",
    "db = mysql.connector.connect(\n",
    "    host=\"localhost\",  # MySQL服务器地址\n",
    "    user=\"root\",   # 用户名\n",
    "    password=\"\",  # 密码\n",
    "    database=\"soybean\"  # 数据库名称\n",
    ")\n",
    "\n",
    "# 创建游标对象，用于执行SQL查询\n",
    "cursor = db.cursor()"
   ]
  },
  {
   "cell_type": "code",
   "execution_count": 3,
   "id": "191cf46c",
   "metadata": {},
   "outputs": [
    {
     "name": "stdout",
     "output_type": "stream",
     "text": [
      "[['2024/9/9', 3094.02, 3094.02, 3094.02, 3094.02]]\n"
     ]
    }
   ],
   "source": [
    "# fetch price for soya\n",
    "date_str = datetime.now().strftime(\"%Y-%m-%d\")\n",
    "res = requests.get('http://mai.fao.com.cn/home/GetBJChartData?specID=23040010&start='+date_str+'&end='+date_str)\n",
    "data = res.json()\n",
    "\n",
    "print(data)"
   ]
  },
  {
   "cell_type": "code",
   "execution_count": 4,
   "id": "66834755",
   "metadata": {},
   "outputs": [],
   "source": [
    "# insert into database\n",
    "for n in range(0,len(data)):\n",
    "    sql = \"INSERT INTO soya_price (record_date, price) VALUES (%s, %s)\"\n",
    "    values = (data[n][0], data[n][1])\n",
    "\n",
    "    cursor.execute(sql, values)\n",
    "# 提交更改到数据库\n",
    "db.commit()"
   ]
  },
  {
   "cell_type": "code",
   "execution_count": 11,
   "id": "41596eb7",
   "metadata": {},
   "outputs": [
    {
     "data": {
      "text/plain": [
       "[]"
      ]
     },
     "execution_count": 11,
     "metadata": {},
     "output_type": "execute_result"
    }
   ],
   "source": [
    "# fetch price for USA soya\n",
    "date_str = datetime.now().strftime(\"%Y-%m-%d\")\n",
    "res = requests.get('https://mai.fao.com.cn/home/GetQhChartData?acID=41&start='+date_str+'&end='+date_str)\n",
    "data = json.loads(res.text.replace('\\'', '\"'))\n",
    "data"
   ]
  },
  {
   "cell_type": "code",
   "execution_count": 9,
   "id": "b5e33f9a",
   "metadata": {},
   "outputs": [],
   "source": [
    "# insert into database\n",
    "for n in range(0,len(data)):\n",
    "    sql = \"INSERT INTO soya_us_futures (record_date, price,start,high,low) VALUES (%s, %s, %s, %s, %s)\"\n",
    "    values = (data[n][0], data[n][2], data[n][1], data[n][4], data[n][3])\n",
    "    cursor.execute(sql, values)\n",
    "# 提交更改到数据库\n",
    "db.commit()"
   ]
  },
  {
   "cell_type": "code",
   "execution_count": null,
   "id": "caaa4e82",
   "metadata": {},
   "outputs": [],
   "source": []
  }
 ],
 "metadata": {
  "kernelspec": {
   "display_name": "Python 3 (ipykernel)",
   "language": "python",
   "name": "python3"
  },
  "language_info": {
   "codemirror_mode": {
    "name": "ipython",
    "version": 3
   },
   "file_extension": ".py",
   "mimetype": "text/x-python",
   "name": "python",
   "nbconvert_exporter": "python",
   "pygments_lexer": "ipython3",
   "version": "3.10.0"
  }
 },
 "nbformat": 4,
 "nbformat_minor": 5
}
